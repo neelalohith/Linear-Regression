{
  "cells": [
    {
      "cell_type": "markdown",
      "id": "94fb8804",
      "metadata": {
        "id": "94fb8804"
      },
      "source": [
        "# importing modules and information about dataset"
      ]
    },
    {
      "cell_type": "code",
      "execution_count": null,
      "id": "00c24d53",
      "metadata": {
        "id": "00c24d53",
        "outputId": "09591960-5891-47ee-df97-eceffb42bd4d"
      },
      "outputs": [
        {
          "data": {
            "text/html": [
              "<div>\n",
              "<style scoped>\n",
              "    .dataframe tbody tr th:only-of-type {\n",
              "        vertical-align: middle;\n",
              "    }\n",
              "\n",
              "    .dataframe tbody tr th {\n",
              "        vertical-align: top;\n",
              "    }\n",
              "\n",
              "    .dataframe thead th {\n",
              "        text-align: right;\n",
              "    }\n",
              "</style>\n",
              "<table border=\"1\" class=\"dataframe\">\n",
              "  <thead>\n",
              "    <tr style=\"text-align: right;\">\n",
              "      <th></th>\n",
              "      <th>Unnamed: 0</th>\n",
              "      <th>state</th>\n",
              "      <th>colonies_number</th>\n",
              "      <th>yield_per_colony</th>\n",
              "      <th>production</th>\n",
              "      <th>stocks</th>\n",
              "      <th>average_price</th>\n",
              "      <th>value_of_production</th>\n",
              "      <th>year</th>\n",
              "    </tr>\n",
              "  </thead>\n",
              "  <tbody>\n",
              "    <tr>\n",
              "      <th>499</th>\n",
              "      <td>499</td>\n",
              "      <td>NorthDakota</td>\n",
              "      <td>350000</td>\n",
              "      <td>74</td>\n",
              "      <td>25900000</td>\n",
              "      <td>7770000</td>\n",
              "      <td>90.00</td>\n",
              "      <td>23310000</td>\n",
              "      <td>2006</td>\n",
              "    </tr>\n",
              "    <tr>\n",
              "      <th>394</th>\n",
              "      <td>394</td>\n",
              "      <td>California</td>\n",
              "      <td>390000</td>\n",
              "      <td>45</td>\n",
              "      <td>17550000</td>\n",
              "      <td>5792000</td>\n",
              "      <td>101.00</td>\n",
              "      <td>17726000</td>\n",
              "      <td>2004</td>\n",
              "    </tr>\n",
              "    <tr>\n",
              "      <th>1039</th>\n",
              "      <td>1039</td>\n",
              "      <td>Colorado</td>\n",
              "      <td>30000</td>\n",
              "      <td>41</td>\n",
              "      <td>455000</td>\n",
              "      <td>455000</td>\n",
              "      <td>2.39</td>\n",
              "      <td>2940000</td>\n",
              "      <td>2020</td>\n",
              "    </tr>\n",
              "    <tr>\n",
              "      <th>182</th>\n",
              "      <td>182</td>\n",
              "      <td>Idaho</td>\n",
              "      <td>120000</td>\n",
              "      <td>48</td>\n",
              "      <td>5760000</td>\n",
              "      <td>3110000</td>\n",
              "      <td>59.00</td>\n",
              "      <td>3398000</td>\n",
              "      <td>1999</td>\n",
              "    </tr>\n",
              "    <tr>\n",
              "      <th>441</th>\n",
              "      <td>441</td>\n",
              "      <td>Indiana</td>\n",
              "      <td>8000</td>\n",
              "      <td>64</td>\n",
              "      <td>512000</td>\n",
              "      <td>189000</td>\n",
              "      <td>119.00</td>\n",
              "      <td>609000</td>\n",
              "      <td>2005</td>\n",
              "    </tr>\n",
              "    <tr>\n",
              "      <th>422</th>\n",
              "      <td>422</td>\n",
              "      <td>Tennessee</td>\n",
              "      <td>6000</td>\n",
              "      <td>54</td>\n",
              "      <td>324000</td>\n",
              "      <td>91000</td>\n",
              "      <td>172.00</td>\n",
              "      <td>557000</td>\n",
              "      <td>2004</td>\n",
              "    </tr>\n",
              "    <tr>\n",
              "      <th>902</th>\n",
              "      <td>902</td>\n",
              "      <td>Oregon</td>\n",
              "      <td>74000</td>\n",
              "      <td>35</td>\n",
              "      <td>622000</td>\n",
              "      <td>622000</td>\n",
              "      <td>191.00</td>\n",
              "      <td>4947000</td>\n",
              "      <td>2016</td>\n",
              "    </tr>\n",
              "  </tbody>\n",
              "</table>\n",
              "</div>"
            ],
            "text/plain": [
              "      Unnamed: 0        state  colonies_number  yield_per_colony  production  \\\n",
              "499          499  NorthDakota           350000                74    25900000   \n",
              "394          394   California           390000                45    17550000   \n",
              "1039        1039     Colorado            30000                41      455000   \n",
              "182          182        Idaho           120000                48     5760000   \n",
              "441          441      Indiana             8000                64      512000   \n",
              "422          422    Tennessee             6000                54      324000   \n",
              "902          902       Oregon            74000                35      622000   \n",
              "\n",
              "       stocks  average_price  value_of_production  year  \n",
              "499   7770000          90.00             23310000  2006  \n",
              "394   5792000         101.00             17726000  2004  \n",
              "1039   455000           2.39              2940000  2020  \n",
              "182   3110000          59.00              3398000  1999  \n",
              "441    189000         119.00               609000  2005  \n",
              "422     91000         172.00               557000  2004  \n",
              "902    622000         191.00              4947000  2016  "
            ]
          },
          "execution_count": 33,
          "metadata": {},
          "output_type": "execute_result"
        }
      ],
      "source": [
        "import pandas as pd\n",
        "import numpy as np\n",
        "import matplotlib.pyplot as plt\n",
        "from sklearn.model_selection import train_test_split\n",
        "from sklearn.linear_model import LinearRegression\n",
        "from sklearn.metrics import r2_score,mean_squared_error\n",
        "%matplotlib inline\n",
        "#printing the dataframe. The dataset is about honey production accross various states in united states of america.\n",
        "df=pd.read_csv('US_honey_dataset_updated.csv')\n",
        "#printing 7 random rows of the dataset\n",
        "df.sample(7)"
      ]
    },
    {
      "cell_type": "markdown",
      "id": "32f03b9b",
      "metadata": {
        "id": "32f03b9b"
      },
      "source": [
        "# data cleaning"
      ]
    },
    {
      "cell_type": "code",
      "execution_count": null,
      "id": "55eac409",
      "metadata": {
        "id": "55eac409",
        "outputId": "066c457b-939c-4e22-be36-c24721da1d29"
      },
      "outputs": [
        {
          "data": {
            "text/html": [
              "<div>\n",
              "<style scoped>\n",
              "    .dataframe tbody tr th:only-of-type {\n",
              "        vertical-align: middle;\n",
              "    }\n",
              "\n",
              "    .dataframe tbody tr th {\n",
              "        vertical-align: top;\n",
              "    }\n",
              "\n",
              "    .dataframe thead th {\n",
              "        text-align: right;\n",
              "    }\n",
              "</style>\n",
              "<table border=\"1\" class=\"dataframe\">\n",
              "  <thead>\n",
              "    <tr style=\"text-align: right;\">\n",
              "      <th></th>\n",
              "      <th>Unnamed: 0</th>\n",
              "      <th>colonies_number</th>\n",
              "      <th>yield_per_colony</th>\n",
              "      <th>production</th>\n",
              "      <th>stocks</th>\n",
              "      <th>average_price</th>\n",
              "      <th>value_of_production</th>\n",
              "      <th>year</th>\n",
              "    </tr>\n",
              "  </thead>\n",
              "  <tbody>\n",
              "    <tr>\n",
              "      <th>count</th>\n",
              "      <td>1115.00000</td>\n",
              "      <td>1115.000000</td>\n",
              "      <td>1115.000000</td>\n",
              "      <td>1.115000e+03</td>\n",
              "      <td>1.115000e+03</td>\n",
              "      <td>1115.000000</td>\n",
              "      <td>1.115000e+03</td>\n",
              "      <td>1115.000000</td>\n",
              "    </tr>\n",
              "    <tr>\n",
              "      <th>mean</th>\n",
              "      <td>557.00000</td>\n",
              "      <td>62438.565022</td>\n",
              "      <td>59.743498</td>\n",
              "      <td>2.851268e+06</td>\n",
              "      <td>1.172625e+06</td>\n",
              "      <td>140.623076</td>\n",
              "      <td>5.667412e+06</td>\n",
              "      <td>2007.740807</td>\n",
              "    </tr>\n",
              "    <tr>\n",
              "      <th>std</th>\n",
              "      <td>322.01708</td>\n",
              "      <td>92648.175955</td>\n",
              "      <td>19.940500</td>\n",
              "      <td>5.561202e+06</td>\n",
              "      <td>2.049556e+06</td>\n",
              "      <td>107.011544</td>\n",
              "      <td>9.459460e+06</td>\n",
              "      <td>7.823002</td>\n",
              "    </tr>\n",
              "    <tr>\n",
              "      <th>min</th>\n",
              "      <td>0.00000</td>\n",
              "      <td>2000.000000</td>\n",
              "      <td>19.000000</td>\n",
              "      <td>1.200000e+04</td>\n",
              "      <td>9.000000e+03</td>\n",
              "      <td>1.300000</td>\n",
              "      <td>1.060000e+05</td>\n",
              "      <td>1995.000000</td>\n",
              "    </tr>\n",
              "    <tr>\n",
              "      <th>25%</th>\n",
              "      <td>278.50000</td>\n",
              "      <td>9000.000000</td>\n",
              "      <td>45.000000</td>\n",
              "      <td>2.460000e+05</td>\n",
              "      <td>1.125000e+05</td>\n",
              "      <td>70.000000</td>\n",
              "      <td>1.008000e+06</td>\n",
              "      <td>2001.000000</td>\n",
              "    </tr>\n",
              "    <tr>\n",
              "      <th>50%</th>\n",
              "      <td>557.00000</td>\n",
              "      <td>26000.000000</td>\n",
              "      <td>57.000000</td>\n",
              "      <td>8.280000e+05</td>\n",
              "      <td>3.700000e+05</td>\n",
              "      <td>128.000000</td>\n",
              "      <td>2.281000e+06</td>\n",
              "      <td>2008.000000</td>\n",
              "    </tr>\n",
              "    <tr>\n",
              "      <th>75%</th>\n",
              "      <td>835.50000</td>\n",
              "      <td>69000.000000</td>\n",
              "      <td>71.000000</td>\n",
              "      <td>2.700000e+06</td>\n",
              "      <td>1.253500e+06</td>\n",
              "      <td>193.000000</td>\n",
              "      <td>5.704000e+06</td>\n",
              "      <td>2015.000000</td>\n",
              "    </tr>\n",
              "    <tr>\n",
              "      <th>max</th>\n",
              "      <td>1114.00000</td>\n",
              "      <td>550000.000000</td>\n",
              "      <td>155.000000</td>\n",
              "      <td>3.906000e+07</td>\n",
              "      <td>1.354500e+07</td>\n",
              "      <td>874.000000</td>\n",
              "      <td>8.385900e+07</td>\n",
              "      <td>2021.000000</td>\n",
              "    </tr>\n",
              "  </tbody>\n",
              "</table>\n",
              "</div>"
            ],
            "text/plain": [
              "       Unnamed: 0  colonies_number  yield_per_colony    production  \\\n",
              "count  1115.00000      1115.000000       1115.000000  1.115000e+03   \n",
              "mean    557.00000     62438.565022         59.743498  2.851268e+06   \n",
              "std     322.01708     92648.175955         19.940500  5.561202e+06   \n",
              "min       0.00000      2000.000000         19.000000  1.200000e+04   \n",
              "25%     278.50000      9000.000000         45.000000  2.460000e+05   \n",
              "50%     557.00000     26000.000000         57.000000  8.280000e+05   \n",
              "75%     835.50000     69000.000000         71.000000  2.700000e+06   \n",
              "max    1114.00000    550000.000000        155.000000  3.906000e+07   \n",
              "\n",
              "             stocks  average_price  value_of_production         year  \n",
              "count  1.115000e+03    1115.000000         1.115000e+03  1115.000000  \n",
              "mean   1.172625e+06     140.623076         5.667412e+06  2007.740807  \n",
              "std    2.049556e+06     107.011544         9.459460e+06     7.823002  \n",
              "min    9.000000e+03       1.300000         1.060000e+05  1995.000000  \n",
              "25%    1.125000e+05      70.000000         1.008000e+06  2001.000000  \n",
              "50%    3.700000e+05     128.000000         2.281000e+06  2008.000000  \n",
              "75%    1.253500e+06     193.000000         5.704000e+06  2015.000000  \n",
              "max    1.354500e+07     874.000000         8.385900e+07  2021.000000  "
            ]
          },
          "execution_count": 34,
          "metadata": {},
          "output_type": "execute_result"
        }
      ],
      "source": [
        "#describing the dataset\n",
        "df.describe()"
      ]
    },
    {
      "cell_type": "code",
      "execution_count": null,
      "id": "348dca71",
      "metadata": {
        "scrolled": false,
        "id": "348dca71",
        "outputId": "063751b7-112e-44db-9168-5d95df76db77"
      },
      "outputs": [
        {
          "data": {
            "text/plain": [
              "Unnamed: 0             0\n",
              "state                  0\n",
              "colonies_number        0\n",
              "yield_per_colony       0\n",
              "production             0\n",
              "stocks                 0\n",
              "average_price          0\n",
              "value_of_production    0\n",
              "year                   0\n",
              "dtype: int64"
            ]
          },
          "execution_count": 35,
          "metadata": {},
          "output_type": "execute_result"
        }
      ],
      "source": [
        "#checking for null values in each column\n",
        "df[0:50].isnull().sum()"
      ]
    },
    {
      "cell_type": "code",
      "execution_count": null,
      "id": "17018e2c",
      "metadata": {
        "id": "17018e2c",
        "outputId": "c0059548-1309-40a4-b00e-51cbbf628920"
      },
      "outputs": [
        {
          "name": "stdout",
          "output_type": "stream",
          "text": [
            "(1115, 9)\n",
            "<bound method IndexOpsMixin.value_counts of 0      16000\n",
            "1      52000\n",
            "2      50000\n",
            "3     420000\n",
            "4      45000\n",
            "5     230000\n",
            "6      70000\n",
            "7       8000\n",
            "8     125000\n",
            "9      11000\n",
            "10     12000\n",
            "11     50000\n",
            "12     17000\n",
            "13      3000\n",
            "14     33000\n",
            "15     11000\n",
            "16      7000\n",
            "17     97000\n",
            "18    165000\n",
            "19     16000\n",
            "20     23000\n",
            "21    106000\n",
            "22     60000\n",
            "23      9000\n",
            "24      8000\n",
            "25     19000\n",
            "26     70000\n",
            "27     12000\n",
            "28    220000\n",
            "29     25000\n",
            "30      5000\n",
            "31     52000\n",
            "32     25000\n",
            "33      9000\n",
            "34    240000\n",
            "35      4000\n",
            "36     84000\n",
            "37     32000\n",
            "38      5000\n",
            "39      9000\n",
            "40     60000\n",
            "41     13000\n",
            "42     73000\n",
            "43     38000\n",
            "44     16000\n",
            "45     32000\n",
            "46     40000\n",
            "47    390000\n",
            "48     30000\n",
            "49    240000\n",
            "Name: colonies_number, dtype: int64>\n"
          ]
        }
      ],
      "source": [
        "#displaying number of rows and columns\n",
        "print(df.shape)\n",
        "#displaying the count of each row under the column 'colonies_number'(50 rows)\n",
        "print(df['colonies_number'][0:50].value_counts)"
      ]
    },
    {
      "cell_type": "code",
      "execution_count": null,
      "id": "e591376d",
      "metadata": {
        "id": "e591376d",
        "outputId": "e6caba05-82b1-4678-87ad-d8d3270b46d3"
      },
      "outputs": [
        {
          "name": "stdout",
          "output_type": "stream",
          "text": [
            "(27, 9)\n",
            "Unnamed: 0             0\n",
            "state                  0\n",
            "colonies_number        0\n",
            "yield_per_colony       0\n",
            "production             0\n",
            "stocks                 0\n",
            "average_price          0\n",
            "value_of_production    0\n",
            "year                   0\n",
            "dtype: int64\n",
            "(27, 9)\n",
            "Unnamed: 0             0\n",
            "state                  0\n",
            "colonies_number        0\n",
            "yield_per_colony       0\n",
            "production             0\n",
            "stocks                 0\n",
            "average_price          0\n",
            "value_of_production    0\n",
            "year                   0\n",
            "dtype: int64\n"
          ]
        },
        {
          "data": {
            "text/html": [
              "<div>\n",
              "<style scoped>\n",
              "    .dataframe tbody tr th:only-of-type {\n",
              "        vertical-align: middle;\n",
              "    }\n",
              "\n",
              "    .dataframe tbody tr th {\n",
              "        vertical-align: top;\n",
              "    }\n",
              "\n",
              "    .dataframe thead th {\n",
              "        text-align: right;\n",
              "    }\n",
              "</style>\n",
              "<table border=\"1\" class=\"dataframe\">\n",
              "  <thead>\n",
              "    <tr style=\"text-align: right;\">\n",
              "      <th></th>\n",
              "      <th>Unnamed: 0</th>\n",
              "      <th>state</th>\n",
              "      <th>colonies_number</th>\n",
              "      <th>yield_per_colony</th>\n",
              "      <th>production</th>\n",
              "      <th>stocks</th>\n",
              "      <th>average_price</th>\n",
              "      <th>value_of_production</th>\n",
              "      <th>year</th>\n",
              "    </tr>\n",
              "  </thead>\n",
              "  <tbody>\n",
              "    <tr>\n",
              "      <th>560</th>\n",
              "      <td>560</td>\n",
              "      <td>Georgia</td>\n",
              "      <td>55000</td>\n",
              "      <td>71</td>\n",
              "      <td>3905000</td>\n",
              "      <td>312000</td>\n",
              "      <td>149.0</td>\n",
              "      <td>5818000</td>\n",
              "      <td>2008</td>\n",
              "    </tr>\n",
              "    <tr>\n",
              "      <th>397</th>\n",
              "      <td>397</td>\n",
              "      <td>Georgia</td>\n",
              "      <td>63000</td>\n",
              "      <td>49</td>\n",
              "      <td>3087000</td>\n",
              "      <td>648000</td>\n",
              "      <td>118.0</td>\n",
              "      <td>3643000</td>\n",
              "      <td>2004</td>\n",
              "    </tr>\n",
              "  </tbody>\n",
              "</table>\n",
              "</div>"
            ],
            "text/plain": [
              "     Unnamed: 0    state  colonies_number  yield_per_colony  production  \\\n",
              "560         560  Georgia            55000                71     3905000   \n",
              "397         397  Georgia            63000                49     3087000   \n",
              "\n",
              "     stocks  average_price  value_of_production  year  \n",
              "560  312000          149.0              5818000  2008  \n",
              "397  648000          118.0              3643000  2004  "
            ]
          },
          "execution_count": 37,
          "metadata": {},
          "output_type": "execute_result"
        }
      ],
      "source": [
        "changed_df=df[df['state']=='Georgia']# taking only the state Georgia into consideration\n",
        "print(changed_df.shape)# shape of dataset\n",
        "print(changed_df.isnull().sum())# check for null entries\n",
        "ch=changed_df.dropna()#dropping null entries \n",
        "print(ch.shape)#shape of the dataset after cleaning\n",
        "print(ch.isnull().sum())#checking for null values after cleaning\n",
        "ch.sample(2)#printing 2 entries having satate Georgia"
      ]
    },
    {
      "cell_type": "markdown",
      "id": "df04e9a1",
      "metadata": {
        "id": "df04e9a1"
      },
      "source": [
        "# printing correlation values"
      ]
    },
    {
      "cell_type": "code",
      "execution_count": null,
      "id": "5e5feccc",
      "metadata": {
        "id": "5e5feccc",
        "outputId": "a8be135c-4e82-49f7-dcc9-06018a0d912c"
      },
      "outputs": [
        {
          "data": {
            "text/html": [
              "<div>\n",
              "<style scoped>\n",
              "    .dataframe tbody tr th:only-of-type {\n",
              "        vertical-align: middle;\n",
              "    }\n",
              "\n",
              "    .dataframe tbody tr th {\n",
              "        vertical-align: top;\n",
              "    }\n",
              "\n",
              "    .dataframe thead th {\n",
              "        text-align: right;\n",
              "    }\n",
              "</style>\n",
              "<table border=\"1\" class=\"dataframe\">\n",
              "  <thead>\n",
              "    <tr style=\"text-align: right;\">\n",
              "      <th></th>\n",
              "      <th>Unnamed: 0</th>\n",
              "      <th>colonies_number</th>\n",
              "      <th>yield_per_colony</th>\n",
              "      <th>production</th>\n",
              "      <th>stocks</th>\n",
              "      <th>average_price</th>\n",
              "      <th>value_of_production</th>\n",
              "      <th>year</th>\n",
              "    </tr>\n",
              "  </thead>\n",
              "  <tbody>\n",
              "    <tr>\n",
              "      <th>Unnamed: 0</th>\n",
              "      <td>1.000000</td>\n",
              "      <td>0.604769</td>\n",
              "      <td>-0.661093</td>\n",
              "      <td>-0.860844</td>\n",
              "      <td>-0.016629</td>\n",
              "      <td>0.207303</td>\n",
              "      <td>0.867402</td>\n",
              "      <td>0.999840</td>\n",
              "    </tr>\n",
              "    <tr>\n",
              "      <th>colonies_number</th>\n",
              "      <td>0.604769</td>\n",
              "      <td>1.000000</td>\n",
              "      <td>-0.670666</td>\n",
              "      <td>-0.471204</td>\n",
              "      <td>0.146522</td>\n",
              "      <td>-0.148687</td>\n",
              "      <td>0.756370</td>\n",
              "      <td>0.616657</td>\n",
              "    </tr>\n",
              "    <tr>\n",
              "      <th>yield_per_colony</th>\n",
              "      <td>-0.661093</td>\n",
              "      <td>-0.670666</td>\n",
              "      <td>1.000000</td>\n",
              "      <td>0.752220</td>\n",
              "      <td>0.102383</td>\n",
              "      <td>0.019883</td>\n",
              "      <td>-0.472704</td>\n",
              "      <td>-0.666121</td>\n",
              "    </tr>\n",
              "    <tr>\n",
              "      <th>production</th>\n",
              "      <td>-0.860844</td>\n",
              "      <td>-0.471204</td>\n",
              "      <td>0.752220</td>\n",
              "      <td>1.000000</td>\n",
              "      <td>0.220273</td>\n",
              "      <td>-0.294486</td>\n",
              "      <td>-0.699798</td>\n",
              "      <td>-0.861792</td>\n",
              "    </tr>\n",
              "    <tr>\n",
              "      <th>stocks</th>\n",
              "      <td>-0.016629</td>\n",
              "      <td>0.146522</td>\n",
              "      <td>0.102383</td>\n",
              "      <td>0.220273</td>\n",
              "      <td>1.000000</td>\n",
              "      <td>0.117402</td>\n",
              "      <td>0.111757</td>\n",
              "      <td>-0.018687</td>\n",
              "    </tr>\n",
              "    <tr>\n",
              "      <th>average_price</th>\n",
              "      <td>0.207303</td>\n",
              "      <td>-0.148687</td>\n",
              "      <td>0.019883</td>\n",
              "      <td>-0.294486</td>\n",
              "      <td>0.117402</td>\n",
              "      <td>1.000000</td>\n",
              "      <td>0.271241</td>\n",
              "      <td>0.200772</td>\n",
              "    </tr>\n",
              "    <tr>\n",
              "      <th>value_of_production</th>\n",
              "      <td>0.867402</td>\n",
              "      <td>0.756370</td>\n",
              "      <td>-0.472704</td>\n",
              "      <td>-0.699798</td>\n",
              "      <td>0.111757</td>\n",
              "      <td>0.271241</td>\n",
              "      <td>1.000000</td>\n",
              "      <td>0.872114</td>\n",
              "    </tr>\n",
              "    <tr>\n",
              "      <th>year</th>\n",
              "      <td>0.999840</td>\n",
              "      <td>0.616657</td>\n",
              "      <td>-0.666121</td>\n",
              "      <td>-0.861792</td>\n",
              "      <td>-0.018687</td>\n",
              "      <td>0.200772</td>\n",
              "      <td>0.872114</td>\n",
              "      <td>1.000000</td>\n",
              "    </tr>\n",
              "  </tbody>\n",
              "</table>\n",
              "</div>"
            ],
            "text/plain": [
              "                     Unnamed: 0  colonies_number  yield_per_colony  \\\n",
              "Unnamed: 0             1.000000         0.604769         -0.661093   \n",
              "colonies_number        0.604769         1.000000         -0.670666   \n",
              "yield_per_colony      -0.661093        -0.670666          1.000000   \n",
              "production            -0.860844        -0.471204          0.752220   \n",
              "stocks                -0.016629         0.146522          0.102383   \n",
              "average_price          0.207303        -0.148687          0.019883   \n",
              "value_of_production    0.867402         0.756370         -0.472704   \n",
              "year                   0.999840         0.616657         -0.666121   \n",
              "\n",
              "                     production    stocks  average_price  value_of_production  \\\n",
              "Unnamed: 0            -0.860844 -0.016629       0.207303             0.867402   \n",
              "colonies_number       -0.471204  0.146522      -0.148687             0.756370   \n",
              "yield_per_colony       0.752220  0.102383       0.019883            -0.472704   \n",
              "production             1.000000  0.220273      -0.294486            -0.699798   \n",
              "stocks                 0.220273  1.000000       0.117402             0.111757   \n",
              "average_price         -0.294486  0.117402       1.000000             0.271241   \n",
              "value_of_production   -0.699798  0.111757       0.271241             1.000000   \n",
              "year                  -0.861792 -0.018687       0.200772             0.872114   \n",
              "\n",
              "                         year  \n",
              "Unnamed: 0           0.999840  \n",
              "colonies_number      0.616657  \n",
              "yield_per_colony    -0.666121  \n",
              "production          -0.861792  \n",
              "stocks              -0.018687  \n",
              "average_price        0.200772  \n",
              "value_of_production  0.872114  \n",
              "year                 1.000000  "
            ]
          },
          "execution_count": 38,
          "metadata": {},
          "output_type": "execute_result"
        }
      ],
      "source": [
        "#printing correlation values of each row and column\n",
        "ch.corr()"
      ]
    },
    {
      "cell_type": "markdown",
      "id": "95a1122b",
      "metadata": {
        "id": "95a1122b"
      },
      "source": [
        "# linear regression"
      ]
    },
    {
      "cell_type": "code",
      "execution_count": null,
      "id": "658ec4b9",
      "metadata": {
        "id": "658ec4b9",
        "outputId": "aee8eb7b-f5fd-4f1e-a8e8-035536b69980"
      },
      "outputs": [
        {
          "data": {
            "text/html": [
              "<div>\n",
              "<style scoped>\n",
              "    .dataframe tbody tr th:only-of-type {\n",
              "        vertical-align: middle;\n",
              "    }\n",
              "\n",
              "    .dataframe tbody tr th {\n",
              "        vertical-align: top;\n",
              "    }\n",
              "\n",
              "    .dataframe thead th {\n",
              "        text-align: right;\n",
              "    }\n",
              "</style>\n",
              "<table border=\"1\" class=\"dataframe\">\n",
              "  <thead>\n",
              "    <tr style=\"text-align: right;\">\n",
              "      <th></th>\n",
              "      <th>average_price</th>\n",
              "      <th>yield_per_colony</th>\n",
              "    </tr>\n",
              "  </thead>\n",
              "  <tbody>\n",
              "    <tr>\n",
              "      <th>841</th>\n",
              "      <td>243.00</td>\n",
              "      <td>40</td>\n",
              "    </tr>\n",
              "    <tr>\n",
              "      <th>94</th>\n",
              "      <td>79.00</td>\n",
              "      <td>46</td>\n",
              "    </tr>\n",
              "    <tr>\n",
              "      <th>1081</th>\n",
              "      <td>2.73</td>\n",
              "      <td>34</td>\n",
              "    </tr>\n",
              "    <tr>\n",
              "      <th>437</th>\n",
              "      <td>84.00</td>\n",
              "      <td>49</td>\n",
              "    </tr>\n",
              "    <tr>\n",
              "      <th>266</th>\n",
              "      <td>70.00</td>\n",
              "      <td>57</td>\n",
              "    </tr>\n",
              "    <tr>\n",
              "      <th>801</th>\n",
              "      <td>219.00</td>\n",
              "      <td>62</td>\n",
              "    </tr>\n",
              "    <tr>\n",
              "      <th>6</th>\n",
              "      <td>69.00</td>\n",
              "      <td>62</td>\n",
              "    </tr>\n",
              "  </tbody>\n",
              "</table>\n",
              "</div>"
            ],
            "text/plain": [
              "      average_price  yield_per_colony\n",
              "841          243.00                40\n",
              "94            79.00                46\n",
              "1081           2.73                34\n",
              "437           84.00                49\n",
              "266           70.00                57\n",
              "801          219.00                62\n",
              "6             69.00                62"
            ]
          },
          "execution_count": 39,
          "metadata": {},
          "output_type": "execute_result"
        }
      ],
      "source": [
        "#from such a vast dataset, we chose only the production in state georgia.\n",
        "ch=ch[['average_price','yield_per_colony']]# consider only these two columns.\n",
        "#printing 7 random elements in dataset under these columns.\n",
        "ch.sample(7)"
      ]
    },
    {
      "cell_type": "code",
      "execution_count": null,
      "id": "0fac35d3",
      "metadata": {
        "id": "0fac35d3",
        "outputId": "f9ae7103-f4df-4975-db3f-05a957d92b2a"
      },
      "outputs": [
        {
          "name": "stdout",
          "output_type": "stream",
          "text": [
            "(27, 1)\n",
            "(27, 1)\n"
          ]
        }
      ],
      "source": [
        "#I have chosen these two columns to show the relationship between them.This is just an assumption.\n",
        "#The two columns are taken as an array using numpy module.\n",
        "#The number of rows and columns is printed as output(in accordance to georgia).\n",
        "X=np.array(ch[['average_price']])\n",
        "Y=np.array(ch[['yield_per_colony']])\n",
        "print(X.shape)\n",
        "print(Y.shape)"
      ]
    },
    {
      "cell_type": "code",
      "execution_count": null,
      "id": "4419a400",
      "metadata": {
        "id": "4419a400",
        "outputId": "46ea1e11-4eb5-4395-fa2a-08b729cafcc6"
      },
      "outputs": [
        {
          "data": {
            "image/png": "[encoded data removed]",
            "text/plain": [
              "<Figure size 640x480 with 1 Axes>"
            ]
          },
          "metadata": {},
          "output_type": "display_data"
        }
      ],
      "source": [
        "#scatter plot between X and Y.\n",
        "plt.scatter(X,Y,color='blue')\n",
        "plt.title('average_price v/s yield_per_colony')\n",
        "plt.xlabel('average_price')\n",
        "plt.ylabel('yield_per_colony')\n",
        "plt.show()"
      ]
    },
    {
      "cell_type": "code",
      "execution_count": null,
      "id": "129262a8",
      "metadata": {
        "id": "129262a8",
        "outputId": "d8ea8457-c9f2-4ed7-bbc9-3d396e294879"
      },
      "outputs": [
        {
          "data": {
            "text/plain": [
              "LinearRegression()"
            ]
          },
          "execution_count": 42,
          "metadata": {},
          "output_type": "execute_result"
        }
      ],
      "source": [
        "#once we get a scatter plot, we decide to perform linear regression on the variables.\n",
        "X_train,X_test,Y_train,Y_test = train_test_split(X,Y,test_size = 0.25,random_state=15)# splitting into train and test dataset\n",
        "regressor = LinearRegression()#creating regressior\n",
        "regressor.fit(X_train,Y_train)#fitting the dataset into the model"
      ]
    },
    {
      "cell_type": "code",
      "execution_count": null,
      "id": "a01402f1",
      "metadata": {
        "id": "a01402f1",
        "outputId": "15bead7c-29ed-4c53-cebf-a9c243f9ad6f"
      },
      "outputs": [
        {
          "data": {
            "image/png": "[encoded data removed]",
            "text/plain": [
              "<Figure size 640x480 with 1 Axes>"
            ]
          },
          "metadata": {},
          "output_type": "display_data"
        }
      ],
      "source": [
        "#Here we split our ‘X’ and ‘Y’ dataset into ‘X_train’, ‘X_test’ and ‘Y_train’, ‘Y_test’. Here we take 25% data as test dataset and remaining as train dataset. We take the random_state value as 15 for our better prediction. We create regressor. And we fit the X_train and Y_train into the regressor model.\n",
        "plt.scatter(X_test,Y_test,color='blue') # graph plotted between X_test and Y_test\n",
        "plt.plot(X_train,regressor.predict(X_train),color='red',linewidth=4) #regresssior line showing\n",
        "plt.title('Regression(Test Set)')\n",
        "plt.xlabel('average_price')\n",
        "plt.ylabel('yield_per_colony')\n",
        "plt.show()"
      ]
    },
    {
      "cell_type": "code",
      "execution_count": null,
      "id": "88d0204d",
      "metadata": {
        "id": "88d0204d",
        "outputId": "93fcab0f-4a46-4c44-c319-ea9728b921ec"
      },
      "outputs": [
        {
          "name": "stdout",
          "output_type": "stream",
          "text": [
            "R2 score: -0.38\n",
            "Mean squared Error : 207.41265149435063\n"
          ]
        }
      ],
      "source": [
        "#Here we plot the final X_train vs Y_train scatterplot graph with a best-fit regression line. Here we can clearly understand the regression line.\n",
        "Y_pred = regressor.predict(X_test)\n",
        "print('R2 score: %.2f' % r2_score(Y_test,Y_pred)) \n",
        "print('Mean squared Error :',mean_squared_error(Y_test,Y_pred)) "
      ]
    },
    {
      "cell_type": "code",
      "execution_count": null,
      "id": "ad4e8539",
      "metadata": {
        "id": "ad4e8539",
        "outputId": "105761ec-1ffd-4bff-f301-7d06822fd195"
      },
      "outputs": [
        {
          "data": {
            "image/png": "[encoded data removed]",
            "text/plain": [
              "<Figure size 640x480 with 1 Axes>"
            ]
          },
          "metadata": {},
          "output_type": "display_data"
        }
      ],
      "source": [
        "#Here we plot a scatter plot graph between X_test and Y_test datasets and we draw a regression line.\n",
        "plt.scatter(X_train,Y_train,color=\"green\")  # graph plotted between X_test and Y_test\n",
        "plt.plot(X_train,regressor.predict(X_train),color=\"red\",linewidth=5)  # Regressior line showing\n",
        "plt.title('Regression(training Set)')\n",
        "plt.xlabel('average_price')\n",
        "plt.ylabel('yield_per_colony')\n",
        "plt.show()"
      ]
    },
    {
      "cell_type": "code",
      "execution_count": null,
      "id": "ef804a59",
      "metadata": {
        "id": "ef804a59",
        "outputId": "c089b0ac-70a7-486b-9f3b-975e3898f7c2"
      },
      "outputs": [
        {
          "name": "stdout",
          "output_type": "stream",
          "text": [
            "The total cost of honey in The USA is : $ 140.62307623318372\n"
          ]
        }
      ],
      "source": [
        "#Here we create a function with the help of our trained regressor model. And we get our desired output.\n",
        "def total_honey_price(cost):\n",
        "    ans=regressor.predict(np.array(cost).reshape(-2,2))\n",
        "    return (result[0,0])\n",
        "honey_cost = df['average_price'].mean()\n",
        "print('The total cost of honey in The USA is : $',honey_cost)"
      ]
    },
    {
      "cell_type": "code",
      "execution_count": null,
      "id": "971db612",
      "metadata": {
        "id": "971db612"
      },
      "outputs": [],
      "source": [
        "#Hence, the conclusion that can be made or the inference that can be drawn from the linear regression is that as the average price of honey  in each state increases, the yield of honey per colony of bees decreases.\n",
        "#The total cost of honey combining all the states in The USA is 140.62 dollars"
      ]
    },
    {
      "cell_type": "code",
      "execution_count": null,
      "id": "eb81dd57",
      "metadata": {
        "id": "eb81dd57"
      },
      "outputs": [],
      "source": []
    }
  ],
  "metadata": {
    "kernelspec": {
      "display_name": "Python 3 (ipykernel)",
      "language": "python",
      "name": "python3"
    },
    "language_info": {
      "codemirror_mode": {
        "name": "ipython",
        "version": 3
      },
      "file_extension": ".py",
      "mimetype": "text/x-python",
      "name": "python",
      "nbconvert_exporter": "python",
      "pygments_lexer": "ipython3",
      "version": "3.9.13"
    },
    "colab": {
      "provenance": []
    }
  },
  "nbformat": 4,
  "nbformat_minor": 5
}